{
 "cells": [
  {
   "cell_type": "code",
   "execution_count": 1,
   "metadata": {},
   "outputs": [],
   "source": [
    "with open(\"input.txt\") as f:\n",
    "    track = f.read().splitlines()"
   ]
  },
  {
   "cell_type": "code",
   "execution_count": 2,
   "metadata": {},
   "outputs": [],
   "source": [
    "for i in range(len(track)):\n",
    "    for j in range(len(track[i])):\n",
    "        if track[i][j] == \"S\":\n",
    "            start = (i, j)\n",
    "        elif track[i][j] == \"E\":\n",
    "            end = (i, j)"
   ]
  },
  {
   "cell_type": "code",
   "execution_count": 3,
   "metadata": {},
   "outputs": [],
   "source": [
    "path = [start]\n",
    "pos = start\n",
    "while track[pos[0]][pos[1]] != \"E\":\n",
    "    for (x, y) in [(0, 1), (1, 0), (0, -1), (-1, 0)]:\n",
    "        try:\n",
    "            next_pos = (pos[0] + x, pos[1] + y)\n",
    "            if next_pos in path:\n",
    "                continue\n",
    "            if track[pos[0] + x][pos[1] + y] == \"E\" or track[pos[0] + x][pos[1] + y] == \".\":\n",
    "                path.append(next_pos)\n",
    "        except IndexError:\n",
    "            pass\n",
    "    pos = path[-1]\n",
    "            "
   ]
  },
  {
   "cell_type": "code",
   "execution_count": 4,
   "metadata": {},
   "outputs": [
    {
     "data": {
      "text/plain": [
       "9453"
      ]
     },
     "execution_count": 4,
     "metadata": {},
     "output_type": "execute_result"
    }
   ],
   "source": [
    "len(path)"
   ]
  },
  {
   "cell_type": "code",
   "execution_count": 5,
   "metadata": {},
   "outputs": [],
   "source": [
    "shortcuts = dict()\n",
    "for pos in path:\n",
    "    for (x, y) in [(2, 0), (0, 2), (-2, 0), (0, -2), (1, 1), (-1, 1), (1, -1), (-1, -1)]:\n",
    "        try:\n",
    "            next_pos = (pos[0] + x, pos[1] + y)\n",
    "            if next_pos in path:\n",
    "                shortcut = path.index(next_pos) - path.index(pos) - 2\n",
    "                if shortcut > 0:\n",
    "                    if shortcuts.get(shortcut) is None:\n",
    "                        shortcuts.update({shortcut: 1})\n",
    "                    else:\n",
    "                        shortcuts[shortcut] += 1\n",
    "        except IndexError: \n",
    "            pass"
   ]
  },
  {
   "cell_type": "code",
   "execution_count": 6,
   "metadata": {},
   "outputs": [
    {
     "data": {
      "text/plain": [
       "1417"
      ]
     },
     "execution_count": 6,
     "metadata": {},
     "output_type": "execute_result"
    }
   ],
   "source": [
    "counter = 0\n",
    "for key in shortcuts.keys():\n",
    "    if key >= 100:\n",
    "        counter += shortcuts[key] \n",
    "counter"
   ]
  },
  {
   "cell_type": "markdown",
   "metadata": {},
   "source": [
    "## Part 2"
   ]
  },
  {
   "cell_type": "code",
   "execution_count": 52,
   "metadata": {},
   "outputs": [
    {
     "data": {
      "text/plain": [
       "1014683"
      ]
     },
     "execution_count": 52,
     "metadata": {},
     "output_type": "execute_result"
    }
   ],
   "source": [
    "distance_to_end = [(pos, len(path) - path.index(pos)) for pos in path]\n",
    "distance_to_end_dict = dict(distance_to_end)\n",
    "count_shortcuts = 0\n",
    "for pos in path:\n",
    "    for x in range(-20, 21):\n",
    "        for y in range(-20, 21):\n",
    "            if abs(x) + abs(y) <= 20:\n",
    "                try:\n",
    "                    next_pos = (pos[0] + x, pos[1] + y)\n",
    "                    dist = distance_to_end_dict.get(next_pos)\n",
    "                    if dist and dist - distance_to_end_dict[pos] - abs(x) - abs(y) >= 100:\n",
    "                        count_shortcuts += 1\n",
    "                except IndexError:\n",
    "                    pass          \n",
    "count_shortcuts          "
   ]
  },
  {
   "cell_type": "code",
   "execution_count": null,
   "metadata": {},
   "outputs": [],
   "source": []
  }
 ],
 "metadata": {
  "kernelspec": {
   "display_name": "Python 3",
   "language": "python",
   "name": "python3"
  },
  "language_info": {
   "codemirror_mode": {
    "name": "ipython",
    "version": 3
   },
   "file_extension": ".py",
   "mimetype": "text/x-python",
   "name": "python",
   "nbconvert_exporter": "python",
   "pygments_lexer": "ipython3",
   "version": "3.12.9"
  }
 },
 "nbformat": 4,
 "nbformat_minor": 2
}
