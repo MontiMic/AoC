{
 "cells": [
  {
   "cell_type": "code",
   "execution_count": 118,
   "metadata": {},
   "outputs": [],
   "source": [
    "with open(\"input.txt\") as f:\n",
    "    track = f.read().splitlines()"
   ]
  },
  {
   "cell_type": "code",
   "execution_count": 119,
   "metadata": {},
   "outputs": [],
   "source": [
    "for i in range(len(track)):\n",
    "    for j in range(len(track[i])):\n",
    "        if track[i][j] == \"S\":\n",
    "            start = (i, j)\n",
    "        elif track[i][j] == \"E\":\n",
    "            end = (i, j)"
   ]
  },
  {
   "cell_type": "code",
   "execution_count": 121,
   "metadata": {},
   "outputs": [],
   "source": [
    "path = [start]\n",
    "pos = start\n",
    "while track[pos[0]][pos[1]] != \"E\":\n",
    "    for (x, y) in [(0, 1), (1, 0), (0, -1), (-1, 0)]:\n",
    "        try:\n",
    "            next_pos = (pos[0] + x, pos[1] + y)\n",
    "            if next_pos in path:\n",
    "                continue\n",
    "            if track[pos[0] + x][pos[1] + y] == \"E\" or track[pos[0] + x][pos[1] + y] == \".\":\n",
    "                path.append(next_pos)\n",
    "        except IndexError:\n",
    "            pass\n",
    "    pos = path[-1]\n",
    "            "
   ]
  },
  {
   "cell_type": "code",
   "execution_count": 122,
   "metadata": {},
   "outputs": [
    {
     "data": {
      "text/plain": [
       "9453"
      ]
     },
     "execution_count": 122,
     "metadata": {},
     "output_type": "execute_result"
    }
   ],
   "source": [
    "len(path)"
   ]
  },
  {
   "cell_type": "code",
   "execution_count": 123,
   "metadata": {},
   "outputs": [],
   "source": [
    "shortcuts = dict()\n",
    "for pos in path:\n",
    "    for (x, y) in [(2, 0), (0, 2), (-2, 0), (0, -2), (1, 1), (-1, 1), (1, -1), (-1, -1)]:\n",
    "        try:\n",
    "            next_pos = (pos[0] + x, pos[1] + y)\n",
    "            if next_pos in path:\n",
    "                shortcut = path.index(next_pos) - path.index(pos) - 2\n",
    "                if shortcut > 0:\n",
    "                    if shortcuts.get(shortcut) is None:\n",
    "                        shortcuts.update({shortcut: 1})\n",
    "                    else:\n",
    "                        shortcuts[shortcut] += 1\n",
    "        except IndexError: \n",
    "            pass"
   ]
  },
  {
   "cell_type": "code",
   "execution_count": 124,
   "metadata": {},
   "outputs": [
    {
     "data": {
      "text/plain": [
       "1417"
      ]
     },
     "execution_count": 124,
     "metadata": {},
     "output_type": "execute_result"
    }
   ],
   "source": [
    "counter = 0\n",
    "for key in shortcuts.keys():\n",
    "    if key >= 100:\n",
    "        counter += shortcuts[key] \n",
    "counter"
   ]
  },
  {
   "cell_type": "markdown",
   "metadata": {},
   "source": [
    "## Part 2"
   ]
  },
  {
   "cell_type": "code",
   "execution_count": 128,
   "metadata": {},
   "outputs": [
    {
     "name": "stdout",
     "output_type": "stream",
     "text": [
      "1200\r"
     ]
    },
    {
     "ename": "KeyboardInterrupt",
     "evalue": "",
     "output_type": "error",
     "traceback": [
      "\u001b[1;31m---------------------------------------------------------------------------\u001b[0m",
      "\u001b[1;31mKeyboardInterrupt\u001b[0m                         Traceback (most recent call last)",
      "Cell \u001b[1;32mIn [128], line 9\u001b[0m\n\u001b[0;32m      7\u001b[0m \u001b[38;5;28;01mtry\u001b[39;00m:\n\u001b[0;32m      8\u001b[0m     next_pos \u001b[38;5;241m=\u001b[39m (pos[\u001b[38;5;241m0\u001b[39m] \u001b[38;5;241m+\u001b[39m x, pos[\u001b[38;5;241m1\u001b[39m] \u001b[38;5;241m+\u001b[39m y)\n\u001b[1;32m----> 9\u001b[0m     \u001b[38;5;28;01mif\u001b[39;00m next_pos \u001b[38;5;129;01min\u001b[39;00m path  \u001b[38;5;129;01mand\u001b[39;00m \u001b[43mpath\u001b[49m\u001b[38;5;241;43m.\u001b[39;49m\u001b[43mindex\u001b[49m\u001b[43m(\u001b[49m\u001b[43mnext_pos\u001b[49m\u001b[43m)\u001b[49m\u001b[43m \u001b[49m\u001b[38;5;241;43m-\u001b[39;49m\u001b[43m \u001b[49m\u001b[43mpath\u001b[49m\u001b[38;5;241;43m.\u001b[39;49m\u001b[43mindex\u001b[49m\u001b[43m(\u001b[49m\u001b[43mpos\u001b[49m\u001b[43m)\u001b[49m\u001b[43m \u001b[49m\u001b[38;5;241;43m>\u001b[39;49m\u001b[43m \u001b[49m\u001b[38;5;241;43m0\u001b[39;49m:\n\u001b[0;32m     10\u001b[0m         shortcut \u001b[38;5;241m=\u001b[39m path\u001b[38;5;241m.\u001b[39mindex(next_pos) \u001b[38;5;241m-\u001b[39m path\u001b[38;5;241m.\u001b[39mindex(pos) \u001b[38;5;241m-\u001b[39m \u001b[38;5;28mabs\u001b[39m(x) \u001b[38;5;241m-\u001b[39m \u001b[38;5;28mabs\u001b[39m(y) \n\u001b[0;32m     11\u001b[0m         \u001b[38;5;28;01mif\u001b[39;00m shortcut \u001b[38;5;241m>\u001b[39m \u001b[38;5;241m0\u001b[39m:\n",
      "\u001b[1;31mKeyboardInterrupt\u001b[0m: "
     ]
    }
   ],
   "source": [
    "for pos in path:\n",
    "    if path.index(pos) % 100 == 0:\n",
    "        print(path.index(pos), end=\"\\r\")\n",
    "    for x in range(-20, 21):\n",
    "        for y in range(-20, 21):\n",
    "            if abs(x) + abs(y) <= 20:\n",
    "                try:\n",
    "                    next_pos = (pos[0] + x, pos[1] + y)\n",
    "                    if next_pos in path  and path.index(next_pos) - path.index(pos) > 0:\n",
    "                        shortcut = path.index(next_pos) - path.index(pos) - abs(x) - abs(y) \n",
    "                        if shortcut > 0:\n",
    "                            if shortcuts.get(shortcut) is None:\n",
    "                                shortcuts.update({shortcut: 1})\n",
    "                            else:\n",
    "                                shortcuts[shortcut] += 1\n",
    "                except IndexError: \n",
    "                    pass"
   ]
  },
  {
   "cell_type": "code",
   "execution_count": 100,
   "metadata": {},
   "outputs": [
    {
     "data": {
      "text/plain": [
       "261174"
      ]
     },
     "execution_count": 100,
     "metadata": {},
     "output_type": "execute_result"
    }
   ],
   "source": [
    "counter = 0\n",
    "for key in shortcuts.keys():\n",
    "    if key >= 100:\n",
    "        counter += shortcuts[key] \n",
    "counter"
   ]
  },
  {
   "cell_type": "markdown",
   "metadata": {},
   "source": [
    "261174 too low"
   ]
  }
 ],
 "metadata": {
  "kernelspec": {
   "display_name": "Python 3",
   "language": "python",
   "name": "python3"
  },
  "language_info": {
   "codemirror_mode": {
    "name": "ipython",
    "version": 3
   },
   "file_extension": ".py",
   "mimetype": "text/x-python",
   "name": "python",
   "nbconvert_exporter": "python",
   "pygments_lexer": "ipython3",
   "version": "3.10.8"
  }
 },
 "nbformat": 4,
 "nbformat_minor": 2
}
