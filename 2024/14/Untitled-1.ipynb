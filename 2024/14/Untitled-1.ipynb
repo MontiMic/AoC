{
 "cells": [
  {
   "cell_type": "code",
   "execution_count": 123,
   "metadata": {},
   "outputs": [],
   "source": [
    "with open(\"input.txt\") as f:\n",
    "    lines = f.read().splitlines()\n",
    "    data = []\n",
    "    for line in lines:\n",
    "        parts = line.split(\" \")\n",
    "        first_pair = list(map(int, parts[0][2:].split(\",\")))\n",
    "        second_pair = list(map(int, parts[1][2:].split(\",\")))\n",
    "        data.append([first_pair, second_pair])\n",
    "wide = 101\n",
    "tall = 103"
   ]
  },
  {
   "cell_type": "code",
   "execution_count": 139,
   "metadata": {},
   "outputs": [],
   "source": [
    "final_positions = []\n",
    "for robot in data:\n",
    "    position = robot[0]\n",
    "    velocity = [vel * 6 for vel in robot[1]]\n",
    "    final_position = [(pos + vel) % mod for pos, vel, mod in zip(position, velocity, [wide, tall])]\n",
    "    final_positions.append(final_position)"
   ]
  },
  {
   "cell_type": "code",
   "execution_count": 140,
   "metadata": {},
   "outputs": [
    {
     "name": "stdout",
     "output_type": "stream",
     "text": [
      "218967408\n"
     ]
    }
   ],
   "source": [
    "from math import prod\n",
    "\n",
    "areas = [0 for _ in range(4)]\n",
    "for position in final_positions:\n",
    "    if position[0] == wide // 2 or position[1] == tall // 2:\n",
    "        continue\n",
    "    if position[0] <= wide // 2:\n",
    "        if position[1] <= tall // 2:\n",
    "            areas[0] += 1\n",
    "        else:\n",
    "            areas[2] += 1\n",
    "    else:\n",
    "        if position[1] <= tall // 2:\n",
    "            areas[1] += 1\n",
    "        else:\n",
    "            areas[3] += 1    \n",
    "print(prod(areas))"
   ]
  },
  {
   "cell_type": "code",
   "execution_count": 141,
   "metadata": {},
   "outputs": [],
   "source": [
    "# Create a grid to represent the map\n",
    "grid = [['.' for _ in range(wide)] for _ in range(tall)]\n",
    "\n",
    "# Mark the central row and column with spaces\n",
    "for i in range(tall):\n",
    "    grid[i][wide // 2] = ' '\n",
    "for j in range(wide):\n",
    "    grid[tall // 2][j] = ' '\n",
    "\n",
    "# Count the number of robots in each position\n",
    "robot_count = {}\n",
    "for position in final_positions:\n",
    "    if position[0] != wide // 2 and position[1] != tall // 2:\n",
    "        robot_count[tuple(position)] = robot_count.get(tuple(position), 0) + 1\n",
    "\n",
    "# Update the grid with the number of robots\n",
    "for (x, y), count in robot_count.items():\n",
    "    grid[y][x] = str(count)\n",
    "\n",
    "# Write the grid to the mappa.txt file\n",
    "with open(\"mappa.txt\", \"w\") as f:\n",
    "    for row in grid:\n",
    "        f.write(\"\".join(row) + \"\\n\")"
   ]
  },
  {
   "cell_type": "code",
   "execution_count": null,
   "metadata": {},
   "outputs": [],
   "source": []
  }
 ],
 "metadata": {
  "kernelspec": {
   "display_name": "Python 3",
   "language": "python",
   "name": "python3"
  },
  "language_info": {
   "codemirror_mode": {
    "name": "ipython",
    "version": 3
   },
   "file_extension": ".py",
   "mimetype": "text/x-python",
   "name": "python",
   "nbconvert_exporter": "python",
   "pygments_lexer": "ipython3",
   "version": "3.10.8"
  }
 },
 "nbformat": 4,
 "nbformat_minor": 2
}
