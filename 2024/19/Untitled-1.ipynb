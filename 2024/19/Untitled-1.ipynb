{
 "cells": [
  {
   "cell_type": "code",
   "execution_count": 108,
   "metadata": {},
   "outputs": [],
   "source": [
    "with open(\"input.txt\", \"r\") as f:\n",
    "    data = f.read().splitlines()\n",
    "    towels = [towel.replace(',', '') for towel in data[0].split()]\n",
    "    patterns = data[2:]"
   ]
  },
  {
   "cell_type": "code",
   "execution_count": 109,
   "metadata": {},
   "outputs": [],
   "source": [
    "from functools import cache\n",
    "\n",
    "@cache\n",
    "def stack_towels_rec(towels, pattern):\n",
    "    responses = {}\n",
    "    if len(pattern) == 0:\n",
    "        return 1\n",
    "    for towel in towels:\n",
    "        if pattern == towel:\n",
    "            return 1\n",
    "        if pattern.startswith(towel):\n",
    "            responses[towel] = stack_towels_rec(tuple(towels), pattern[len(towel):])\n",
    "    return sum(responses.values()) > 0"
   ]
  },
  {
   "cell_type": "code",
   "execution_count": 110,
   "metadata": {},
   "outputs": [
    {
     "data": {
      "text/plain": [
       "287"
      ]
     },
     "execution_count": 110,
     "metadata": {},
     "output_type": "execute_result"
    }
   ],
   "source": [
    "counter = 0\n",
    "for pattern in patterns:\n",
    "    if stack_towels_rec(tuple(towels), pattern):\n",
    "        counter += 1 \n",
    "counter"
   ]
  },
  {
   "cell_type": "markdown",
   "metadata": {},
   "source": [
    "## Part 2"
   ]
  },
  {
   "cell_type": "code",
   "execution_count": 111,
   "metadata": {},
   "outputs": [],
   "source": [
    "from functools import cache\n",
    "\n",
    "@cache\n",
    "def stack_towels_rec(towels, pattern):\n",
    "    responses = {}\n",
    "    if len(pattern) == 0:\n",
    "        return 1\n",
    "    for towel in towels:\n",
    "        if pattern.startswith(towel):\n",
    "            responses[towel] = stack_towels_rec(tuple(towels), pattern[len(towel):])\n",
    "    return sum(responses.values())"
   ]
  },
  {
   "cell_type": "code",
   "execution_count": 112,
   "metadata": {},
   "outputs": [
    {
     "data": {
      "text/plain": [
       "571894474468161"
      ]
     },
     "execution_count": 112,
     "metadata": {},
     "output_type": "execute_result"
    }
   ],
   "source": [
    "counter = 0\n",
    "for pattern in patterns:\n",
    "    arrangements = stack_towels_rec(tuple(towels), pattern)\n",
    "    if arrangements:\n",
    "        counter += arrangements\n",
    "counter"
   ]
  }
 ],
 "metadata": {
  "kernelspec": {
   "display_name": "Python 3",
   "language": "python",
   "name": "python3"
  },
  "language_info": {
   "codemirror_mode": {
    "name": "ipython",
    "version": 3
   },
   "file_extension": ".py",
   "mimetype": "text/x-python",
   "name": "python",
   "nbconvert_exporter": "python",
   "pygments_lexer": "ipython3",
   "version": "3.10.8"
  }
 },
 "nbformat": 4,
 "nbformat_minor": 2
}
