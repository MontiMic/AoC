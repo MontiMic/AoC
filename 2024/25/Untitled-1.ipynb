{
 "cells": [
  {
   "cell_type": "code",
   "execution_count": 5,
   "metadata": {},
   "outputs": [],
   "source": [
    "with open(\"input.txt\") as f:\n",
    "    lines = f.readlines()\n",
    "lines = [line.strip() for line in lines if line.strip()]"
   ]
  },
  {
   "cell_type": "code",
   "execution_count": 16,
   "metadata": {},
   "outputs": [],
   "source": [
    "grouped_lines = [lines[i:i+7] for i in range(0, len(lines), 7)]\n",
    "keys = [x for x in grouped_lines if x[0] == '.....']\n",
    "locks = [x for x in grouped_lines if x[0] == '#####']\n",
    "keys = [x[1:-1] for x in keys]\n",
    "locks = [x[1:-1] for x in locks]"
   ]
  },
  {
   "cell_type": "code",
   "execution_count": 41,
   "metadata": {},
   "outputs": [],
   "source": [
    "def calculate_numeric_values(data, default_value, condition_char, update_value_func):\n",
    "    numeric_values = []\n",
    "    for item in data:\n",
    "        numeric_value = [default_value for _ in range(len(item[0]))]\n",
    "        for index, row in enumerate(item):\n",
    "            for i in range(len(row)):\n",
    "                if numeric_value[i] == default_value and row[i] != condition_char:\n",
    "                    numeric_value[i] = update_value_func(index, len(item))\n",
    "        numeric_values.append(numeric_value)\n",
    "    return numeric_values\n",
    "\n",
    "numeric_keys = calculate_numeric_values(\n",
    "    keys, \n",
    "    default_value=0, \n",
    "    condition_char='.', \n",
    "    update_value_func=lambda index, length: length - index\n",
    ")\n",
    "\n",
    "numeric_locks = calculate_numeric_values(\n",
    "    locks, \n",
    "    default_value=5, \n",
    "    condition_char='#', \n",
    "    update_value_func=lambda index, _: index\n",
    ")"
   ]
  },
  {
   "cell_type": "code",
   "execution_count": 45,
   "metadata": {},
   "outputs": [],
   "source": [
    "def compare_key_lock(key, lock):\n",
    "    for col in range(len(key)):\n",
    "        if key[col] + lock[col] > 5:\n",
    "            return False\n",
    "    return True"
   ]
  },
  {
   "cell_type": "code",
   "execution_count": 46,
   "metadata": {},
   "outputs": [
    {
     "name": "stdout",
     "output_type": "stream",
     "text": [
      "2950\n"
     ]
    }
   ],
   "source": [
    "counter = 0\n",
    "for key in numeric_keys:\n",
    "    for lock in numeric_locks:\n",
    "        if compare_key_lock(key, lock):\n",
    "           counter += 1\n",
    "print(counter) "
   ]
  },
  {
   "cell_type": "markdown",
   "metadata": {},
   "source": [
    "## Part 2"
   ]
  },
  {
   "cell_type": "code",
   "execution_count": 47,
   "metadata": {},
   "outputs": [],
   "source": [
    "def perfect_match(key, lock):\n",
    "    for col in range(len(key)):\n",
    "        if key[col] + lock[col] != 5:\n",
    "            return False\n",
    "    return True"
   ]
  },
  {
   "cell_type": "code",
   "execution_count": 49,
   "metadata": {},
   "outputs": [
    {
     "name": "stdout",
     "output_type": "stream",
     "text": [
      "17\n"
     ]
    }
   ],
   "source": [
    "counter = 0\n",
    "for key in numeric_keys:\n",
    "    for lock in numeric_locks:\n",
    "        if perfect_match(key, lock):\n",
    "           counter += 1\n",
    "print(counter) "
   ]
  },
  {
   "cell_type": "code",
   "execution_count": null,
   "metadata": {},
   "outputs": [],
   "source": []
  }
 ],
 "metadata": {
  "kernelspec": {
   "display_name": "Python 3",
   "language": "python",
   "name": "python3"
  },
  "language_info": {
   "codemirror_mode": {
    "name": "ipython",
    "version": 3
   },
   "file_extension": ".py",
   "mimetype": "text/x-python",
   "name": "python",
   "nbconvert_exporter": "python",
   "pygments_lexer": "ipython3",
   "version": "3.10.8"
  }
 },
 "nbformat": 4,
 "nbformat_minor": 2
}
