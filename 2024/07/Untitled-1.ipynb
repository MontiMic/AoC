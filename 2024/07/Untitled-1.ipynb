{
 "cells": [
  {
   "cell_type": "code",
   "execution_count": 28,
   "metadata": {},
   "outputs": [],
   "source": [
    "import itertools"
   ]
  },
  {
   "cell_type": "code",
   "execution_count": 29,
   "metadata": {},
   "outputs": [],
   "source": [
    "with open(\"input.txt\", \"r\") as f:\n",
    "    input = f.read().strip().splitlines()\n",
    "    input = [line.split(\": \") for line in input]\n",
    "    input = [(int(res), list(map(int, test.split(\" \")))) for res, test in input]"
   ]
  },
  {
   "cell_type": "code",
   "execution_count": 33,
   "metadata": {},
   "outputs": [
    {
     "data": {
      "text/plain": [
       "3312271365652"
      ]
     },
     "execution_count": 33,
     "metadata": {},
     "output_type": "execute_result"
    }
   ],
   "source": [
    "total = 0\n",
    "for res, test in input:\n",
    "    operators = itertools.product(\"+*\", repeat=len(test)-1)\n",
    "    for operator in operators:\n",
    "        result = test[0]\n",
    "        for i, op in enumerate(operator):\n",
    "            if op == \"+\":\n",
    "                result += test[i+1]\n",
    "            elif op == \"*\":\n",
    "                result *= test[i+1]\n",
    "        if result == res:\n",
    "            total += result\n",
    "            break\n",
    "total"
   ]
  },
  {
   "cell_type": "markdown",
   "metadata": {},
   "source": [
    "### Part 2"
   ]
  },
  {
   "cell_type": "code",
   "execution_count": 34,
   "metadata": {},
   "outputs": [
    {
     "data": {
      "text/plain": [
       "509463489296712"
      ]
     },
     "execution_count": 34,
     "metadata": {},
     "output_type": "execute_result"
    }
   ],
   "source": [
    "total = 0\n",
    "for res, test in input:\n",
    "    operators = itertools.product([\"+\", \"*\", \"||\"], repeat=len(test)-1)\n",
    "    for operator in operators:\n",
    "        result = test[0]\n",
    "        for i, op in enumerate(operator):\n",
    "            if op == \"+\":\n",
    "                result += test[i+1]\n",
    "            elif op == \"*\":\n",
    "                result *= test[i+1]\n",
    "            elif op == \"||\":\n",
    "                result = int(str(result) + str(test[i+1]))\n",
    "        if result == res:\n",
    "            total += result\n",
    "            break\n",
    "total"
   ]
  },
  {
   "cell_type": "code",
   "execution_count": null,
   "metadata": {},
   "outputs": [],
   "source": []
  }
 ],
 "metadata": {
  "kernelspec": {
   "display_name": "Python 3",
   "language": "python",
   "name": "python3"
  },
  "language_info": {
   "codemirror_mode": {
    "name": "ipython",
    "version": 3
   },
   "file_extension": ".py",
   "mimetype": "text/x-python",
   "name": "python",
   "nbconvert_exporter": "python",
   "pygments_lexer": "ipython3",
   "version": "3.10.8"
  }
 },
 "nbformat": 4,
 "nbformat_minor": 2
}
