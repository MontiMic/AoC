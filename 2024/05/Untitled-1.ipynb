{
 "cells": [
  {
   "cell_type": "code",
   "execution_count": 48,
   "metadata": {},
   "outputs": [],
   "source": [
    "with open(\"input.txt\") as f:\n",
    "    rules = []\n",
    "    updates = []\n",
    "    for line in f:\n",
    "        if line.strip() == '':\n",
    "            break\n",
    "        rules.append(list(map(int, line.strip().split('|'))))\n",
    "    updates = [list(map(int, line.strip().split(','))) for line in f if line.strip()]"
   ]
  },
  {
   "cell_type": "code",
   "execution_count": 49,
   "metadata": {},
   "outputs": [
    {
     "data": {
      "text/plain": [
       "4957"
      ]
     },
     "execution_count": 49,
     "metadata": {},
     "output_type": "execute_result"
    }
   ],
   "source": [
    "correct_updates = []\n",
    "incorrect_updates = []\n",
    "for update in updates:\n",
    "    is_legal = True\n",
    "    for rule in rules:\n",
    "        if rule[0] in update and rule[1] in update and update.index(rule[0]) > update.index(rule[1]):\n",
    "            is_legal = False\n",
    "            incorrect_updates.append(update)\n",
    "            break\n",
    "    if is_legal:\n",
    "        correct_updates.append(update[len(update) // 2])\n",
    "sum(correct_updates)"
   ]
  },
  {
   "cell_type": "markdown",
   "metadata": {},
   "source": [
    "### Part 2"
   ]
  },
  {
   "cell_type": "code",
   "execution_count": 50,
   "metadata": {},
   "outputs": [
    {
     "data": {
      "text/plain": [
       "6938"
      ]
     },
     "execution_count": 50,
     "metadata": {},
     "output_type": "execute_result"
    }
   ],
   "source": [
    "total = 0\n",
    "for update in incorrect_updates:\n",
    "    is_legal = False\n",
    "    while not is_legal:\n",
    "        is_legal = True\n",
    "        for rule in rules:\n",
    "            if rule[0] in update and rule[1] in update and update.index(rule[0]) > update.index(rule[1]):\n",
    "                is_legal = False\n",
    "                update[update.index(rule[0])], update[update.index(rule[1])] = update[update.index(rule[1])], update[update.index(rule[0])]   \n",
    "    total += update[len(update) // 2]\n",
    "total"
   ]
  },
  {
   "cell_type": "code",
   "execution_count": null,
   "metadata": {},
   "outputs": [],
   "source": []
  }
 ],
 "metadata": {
  "kernelspec": {
   "display_name": "Python 3",
   "language": "python",
   "name": "python3"
  },
  "language_info": {
   "codemirror_mode": {
    "name": "ipython",
    "version": 3
   },
   "file_extension": ".py",
   "mimetype": "text/x-python",
   "name": "python",
   "nbconvert_exporter": "python",
   "pygments_lexer": "ipython3",
   "version": "3.10.8"
  }
 },
 "nbformat": 4,
 "nbformat_minor": 2
}
