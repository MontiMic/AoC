{
 "cells": [
  {
   "cell_type": "code",
   "execution_count": 100,
   "metadata": {},
   "outputs": [],
   "source": [
    "with open(\"input.txt\") as f:\n",
    "    input = f.read().split(\" \")"
   ]
  },
  {
   "cell_type": "code",
   "execution_count": 101,
   "metadata": {},
   "outputs": [
    {
     "data": {
      "text/plain": [
       "['28', '4', '3179', '96938', '0', '6617406', '490', '816207']"
      ]
     },
     "execution_count": 101,
     "metadata": {},
     "output_type": "execute_result"
    }
   ],
   "source": [
    "input"
   ]
  },
  {
   "cell_type": "code",
   "execution_count": 102,
   "metadata": {},
   "outputs": [],
   "source": [
    "def ruler(n):\n",
    "    if n == '0':\n",
    "        return ['1']\n",
    "    if len(n) % 2 == 0:\n",
    "        return [str(int(n[:len(n) // 2])), str(int(n[len(n) // 2:]))]\n",
    "    else:\n",
    "        return [str(int(n) * 2024)]"
   ]
  },
  {
   "cell_type": "code",
   "execution_count": 103,
   "metadata": {},
   "outputs": [
    {
     "name": "stdout",
     "output_type": "stream",
     "text": [
      "189167\n"
     ]
    }
   ],
   "source": [
    "iterations = 25\n",
    "for _ in range(iterations):\n",
    "    new_stones = []\n",
    "    for stone in input:\n",
    "        new_stones.extend(ruler(stone))\n",
    "    input = new_stones\n",
    "print(len(input))"
   ]
  },
  {
   "cell_type": "markdown",
   "metadata": {},
   "source": [
    "### Part 2"
   ]
  },
  {
   "cell_type": "code",
   "execution_count": 126,
   "metadata": {},
   "outputs": [],
   "source": [
    "with open(\"input.txt\") as f:\n",
    "    input = f.read().split(\" \")\n",
    "    input = [(int(x), 1) for x in input]\n",
    "    input = sorted(input)"
   ]
  },
  {
   "cell_type": "code",
   "execution_count": 128,
   "metadata": {},
   "outputs": [],
   "source": [
    "def ruler(n):\n",
    "    if n == 0:\n",
    "        return [1]\n",
    "    if len(str(n)) % 2 == 0:\n",
    "        return [int(str(n)[:len(str(n)) // 2]), int(str(n)[len(str(n)) // 2:])]\n",
    "    else:\n",
    "        return [n * 2024]"
   ]
  },
  {
   "cell_type": "code",
   "execution_count": null,
   "metadata": {},
   "outputs": [
    {
     "name": "stdout",
     "output_type": "stream",
     "text": [
      "225253278506288\n"
     ]
    }
   ],
   "source": [
    "iterations = 75\n",
    "for _ in range(iterations):\n",
    "    input = sorted(input)\n",
    "    new_stones = []\n",
    "    for stone in input:\n",
    "        processed_stone = [] \n",
    "        processed_stone.extend(ruler(stone[0]))\n",
    "        for n in processed_stone:\n",
    "            if any(x == n for x, y in new_stones):\n",
    "                for i, (x, y) in enumerate(new_stones):\n",
    "                    if x == n:\n",
    "                        new_stones[i] = (x, y + stone[1])\n",
    "                        break\n",
    "            else:\n",
    "                new_stones.append((n, stone[1]))\n",
    "    input = new_stones\n",
    "print(sum([y for x, y in input]))"
   ]
  }
 ],
 "metadata": {
  "kernelspec": {
   "display_name": "Python 3",
   "language": "python",
   "name": "python3"
  },
  "language_info": {
   "codemirror_mode": {
    "name": "ipython",
    "version": 3
   },
   "file_extension": ".py",
   "mimetype": "text/x-python",
   "name": "python",
   "nbconvert_exporter": "python",
   "pygments_lexer": "ipython3",
   "version": "3.10.8"
  }
 },
 "nbformat": 4,
 "nbformat_minor": 2
}
