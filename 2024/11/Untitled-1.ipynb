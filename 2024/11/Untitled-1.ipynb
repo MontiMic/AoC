{
 "cells": [
  {
   "cell_type": "code",
   "execution_count": 107,
   "metadata": {},
   "outputs": [],
   "source": [
    "with open(\"input.txt\") as f:\n",
    "    input = f.read().split(\" \")"
   ]
  },
  {
   "cell_type": "code",
   "execution_count": 104,
   "metadata": {},
   "outputs": [
    {
     "data": {
      "text/plain": [
       "['28', '4', '3179', '96938', '0', '6617406', '490', '816207']"
      ]
     },
     "execution_count": 104,
     "metadata": {},
     "output_type": "execute_result"
    }
   ],
   "source": [
    "input"
   ]
  },
  {
   "cell_type": "code",
   "execution_count": 105,
   "metadata": {},
   "outputs": [],
   "source": [
    "def ruler(n):\n",
    "    if n == '0':\n",
    "        return ['1']\n",
    "    if len(n) % 2 == 0:\n",
    "        return [str(int(n[:len(n) // 2])), str(int(n[len(n) // 2:]))]\n",
    "    else:\n",
    "        return [str(int(n) * 2024)]"
   ]
  },
  {
   "cell_type": "code",
   "execution_count": null,
   "metadata": {},
   "outputs": [
    {
     "name": "stdout",
     "output_type": "stream",
     "text": [
      "189167\n"
     ]
    }
   ],
   "source": [
    "iterations = 25\n",
    "for _ in range(iterations):\n",
    "    new_stones = []\n",
    "    for stone in input:\n",
    "        new_stones.extend(ruler(stone))\n",
    "    input = new_stones\n",
    "print(len(input))"
   ]
  }
 ],
 "metadata": {
  "kernelspec": {
   "display_name": "Python 3",
   "language": "python",
   "name": "python3"
  },
  "language_info": {
   "codemirror_mode": {
    "name": "ipython",
    "version": 3
   },
   "file_extension": ".py",
   "mimetype": "text/x-python",
   "name": "python",
   "nbconvert_exporter": "python",
   "pygments_lexer": "ipython3",
   "version": "3.10.8"
  }
 },
 "nbformat": 4,
 "nbformat_minor": 2
}
