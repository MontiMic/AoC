{
 "cells": [
  {
   "cell_type": "code",
   "execution_count": 58,
   "metadata": {},
   "outputs": [],
   "source": [
    "with open(\"input.txt\") as f:\n",
    "    input = f.read().strip().splitlines()\n",
    "    input = [list(line) for line in input]"
   ]
  },
  {
   "cell_type": "code",
   "execution_count": 59,
   "metadata": {},
   "outputs": [],
   "source": [
    "antennas = dict()\n",
    "for y, line in enumerate(input):\n",
    "    for x, c in enumerate(line):\n",
    "        if c != '.':\n",
    "            if c not in antennas:\n",
    "                antennas[c] = [(x, y)]\n",
    "            else:\n",
    "                antennas[c].append((x, y))"
   ]
  },
  {
   "cell_type": "code",
   "execution_count": 60,
   "metadata": {},
   "outputs": [],
   "source": [
    "def find_antinodes(antenna1, antenna2):\n",
    "    x1, y1 = antenna1\n",
    "    x2, y2 = antenna2\n",
    "    diff_x = x2 - x1\n",
    "    diff_y = y2 - y1\n",
    "    antinode1 = (x2 + diff_x, y2 + diff_y)\n",
    "    antinode2 = (x1 - diff_x, y1 - diff_y)\n",
    "    return antinode1, antinode2"
   ]
  },
  {
   "cell_type": "code",
   "execution_count": 61,
   "metadata": {},
   "outputs": [
    {
     "data": {
      "text/plain": [
       "344"
      ]
     },
     "execution_count": 61,
     "metadata": {},
     "output_type": "execute_result"
    }
   ],
   "source": [
    "antinodes = set()\n",
    "for frequency in antennas:\n",
    "    for i in range(len(antennas[frequency])):\n",
    "        for j in range(i + 1, len(antennas[frequency])):\n",
    "            antenna1 = antennas[frequency][i]\n",
    "            antenna2 = antennas[frequency][j]\n",
    "            antinodes.update(find_antinodes(antenna1, antenna2))\n",
    "            antinodes = {antinode for antinode in antinodes if 0 <= antinode[0] < len(input[0]) and 0 <= antinode[1] < len(input)}\n",
    "len(antinodes)\n"
   ]
  },
  {
   "cell_type": "markdown",
   "metadata": {},
   "source": [
    "### Part 2"
   ]
  },
  {
   "cell_type": "code",
   "execution_count": 54,
   "metadata": {},
   "outputs": [],
   "source": [
    "with open(\"input.txt\") as f:\n",
    "    input = f.read().strip().splitlines()\n",
    "    input = [list(line) for line in input]"
   ]
  },
  {
   "cell_type": "code",
   "execution_count": 55,
   "metadata": {},
   "outputs": [],
   "source": [
    "antennas = dict()\n",
    "for y, line in enumerate(input):\n",
    "    for x, c in enumerate(line):\n",
    "        if c != '.':\n",
    "            if c not in antennas:\n",
    "                antennas[c] = [(x, y)]\n",
    "            else:\n",
    "                antennas[c].append((x, y))"
   ]
  },
  {
   "cell_type": "code",
   "execution_count": 56,
   "metadata": {},
   "outputs": [],
   "source": [
    "def modified_find_antinodes(antenna1, antenna2):\n",
    "    antinodes = [antenna1, antenna2]\n",
    "    x1, y1 = antenna1\n",
    "    x2, y2 = antenna2\n",
    "    diff_x = x2 - x1\n",
    "    diff_y = y2 - y1\n",
    "    while antinodes[-1][0] >= 0 and antinodes[-1][0] < len(input[0]) and antinodes[-1][1] >= 0 and antinodes[-1][1] < len(input):\n",
    "        antinodes.append((antinodes[-1][0] + diff_x, antinodes[-1][1] + diff_y))\n",
    "    antinodes.pop()\n",
    "    while antinodes[-1][0] >= 0 and antinodes[-1][0] < len(input[0]) and antinodes[-1][1] >= 0 and antinodes[-1][1] < len(input):\n",
    "        antinodes.append((antinodes[-1][0] - diff_x, antinodes[-1][1] - diff_y))\n",
    "    antinodes.pop()\n",
    "    return antinodes"
   ]
  },
  {
   "cell_type": "code",
   "execution_count": 57,
   "metadata": {},
   "outputs": [
    {
     "data": {
      "text/plain": [
       "1182"
      ]
     },
     "execution_count": 57,
     "metadata": {},
     "output_type": "execute_result"
    }
   ],
   "source": [
    "antinodes = set()\n",
    "for frequency in antennas:\n",
    "    for i in range(len(antennas[frequency])):\n",
    "        for j in range(i + 1, len(antennas[frequency])):\n",
    "            antenna1 = antennas[frequency][i]\n",
    "            antenna2 = antennas[frequency][j]\n",
    "            new_antinodes = modified_find_antinodes(antenna1, antenna2)\n",
    "            for antinode in new_antinodes:\n",
    "                antinodes.add(antinode)\n",
    "            antinodes = {antinode for antinode in antinodes if 0 <= antinode[0] < len(input[0]) and 0 <= antinode[1] < len(input)}\n",
    "len(antinodes)"
   ]
  }
 ],
 "metadata": {
  "kernelspec": {
   "display_name": "Python 3",
   "language": "python",
   "name": "python3"
  },
  "language_info": {
   "codemirror_mode": {
    "name": "ipython",
    "version": 3
   },
   "file_extension": ".py",
   "mimetype": "text/x-python",
   "name": "python",
   "nbconvert_exporter": "python",
   "pygments_lexer": "ipython3",
   "version": "3.10.8"
  }
 },
 "nbformat": 4,
 "nbformat_minor": 2
}
