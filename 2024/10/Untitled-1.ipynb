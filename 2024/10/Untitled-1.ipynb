{
 "cells": [
  {
   "cell_type": "code",
   "execution_count": 63,
   "metadata": {},
   "outputs": [],
   "source": [
    "with open(\"input.txt\") as f:\n",
    "    input = f.read().splitlines()\n",
    "    matrix = [list(map(int, line)) for line in input]"
   ]
  },
  {
   "cell_type": "code",
   "execution_count": 64,
   "metadata": {},
   "outputs": [],
   "source": [
    "end_points = []\n",
    "def explore(matrix, x, y, prev):\n",
    "    if x < 0 or y < 0 or x >= len(matrix) or y >= len(matrix[0]):\n",
    "        return 0\n",
    "    if matrix[x][y] <= prev or matrix[x][y] > prev + 1:\n",
    "        return 0\n",
    "    if matrix[x][y] == 9 and (x, y) not in end_points:\n",
    "        end_points.append((x, y))\n",
    "        return 1\n",
    "    else:\n",
    "        prev = matrix[x][y]\n",
    "        return explore(matrix, x+1, y, prev) + explore(matrix, x-1, y, prev) + explore(matrix, x, y+1, prev) + explore(matrix, x, y-1, prev)    "
   ]
  },
  {
   "cell_type": "code",
   "execution_count": 65,
   "metadata": {},
   "outputs": [
    {
     "name": "stdout",
     "output_type": "stream",
     "text": [
      "825\n"
     ]
    }
   ],
   "source": [
    "total = 0\n",
    "for i in range(len(matrix)):\n",
    "    for j in range(len(matrix[0])):\n",
    "        if matrix[i][j] == 0:\n",
    "            end_points = []\n",
    "            total += explore(matrix, i, j, -1)\n",
    "print(total)"
   ]
  },
  {
   "cell_type": "markdown",
   "metadata": {},
   "source": [
    "## Part 2"
   ]
  },
  {
   "cell_type": "code",
   "execution_count": 66,
   "metadata": {},
   "outputs": [],
   "source": [
    "with open(\"input.txt\") as f:\n",
    "    input = f.read().splitlines()\n",
    "    matrix = [list(map(int, line)) for line in input]"
   ]
  },
  {
   "cell_type": "code",
   "execution_count": 67,
   "metadata": {},
   "outputs": [],
   "source": [
    "def explore(matrix, x, y, prev):\n",
    "    if x < 0 or y < 0 or x >= len(matrix) or y >= len(matrix[0]):\n",
    "        return 0\n",
    "    if matrix[x][y] <= prev or matrix[x][y] > prev + 1:\n",
    "        return 0\n",
    "    if matrix[x][y] == 9 and (x, y):\n",
    "        return 1\n",
    "    else:\n",
    "        prev = matrix[x][y]\n",
    "        return explore(matrix, x+1, y, prev) + explore(matrix, x-1, y, prev) + explore(matrix, x, y+1, prev) + explore(matrix, x, y-1, prev)    "
   ]
  },
  {
   "cell_type": "code",
   "execution_count": 68,
   "metadata": {},
   "outputs": [
    {
     "name": "stdout",
     "output_type": "stream",
     "text": [
      "1805\n"
     ]
    }
   ],
   "source": [
    "total = 0\n",
    "for i in range(len(matrix)):\n",
    "    for j in range(len(matrix[0])):\n",
    "        if matrix[i][j] == 0:\n",
    "            total += explore(matrix, i, j, -1)\n",
    "print(total)"
   ]
  }
 ],
 "metadata": {
  "kernelspec": {
   "display_name": "Python 3",
   "language": "python",
   "name": "python3"
  },
  "language_info": {
   "codemirror_mode": {
    "name": "ipython",
    "version": 3
   },
   "file_extension": ".py",
   "mimetype": "text/x-python",
   "name": "python",
   "nbconvert_exporter": "python",
   "pygments_lexer": "ipython3",
   "version": "3.12.8"
  }
 },
 "nbformat": 4,
 "nbformat_minor": 2
}
