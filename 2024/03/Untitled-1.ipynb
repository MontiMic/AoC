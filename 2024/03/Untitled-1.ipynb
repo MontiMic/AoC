{
 "cells": [
  {
   "cell_type": "code",
   "execution_count": 11,
   "metadata": {},
   "outputs": [],
   "source": [
    "with open('input.txt') as f:\n",
    "    lines = f.readlines()\n",
    "    lines = ''.join(lines)"
   ]
  },
  {
   "cell_type": "code",
   "execution_count": 20,
   "metadata": {},
   "outputs": [
    {
     "data": {
      "text/plain": [
       "182780583"
      ]
     },
     "execution_count": 20,
     "metadata": {},
     "output_type": "execute_result"
    }
   ],
   "source": [
    "total = 0\n",
    "for i, c in enumerate(lines):\n",
    "    if lines[i:i+4] == 'mul(':\n",
    "        j = i + 4\n",
    "        while j < len(lines) and lines[j] != ')' and j < i + 12:\n",
    "            j += 1\n",
    "        product = lines[i+4:j]\n",
    "        if ',' in product and product.replace(',', '').isdigit():\n",
    "            a, b = product.split(',')\n",
    "            total += int(a) * int(b)\n",
    "total"
   ]
  },
  {
   "cell_type": "markdown",
   "metadata": {},
   "source": [
    "### Part 2"
   ]
  },
  {
   "cell_type": "code",
   "execution_count": null,
   "metadata": {},
   "outputs": [
    {
     "data": {
      "text/plain": [
       "90772405"
      ]
     },
     "execution_count": 21,
     "metadata": {},
     "output_type": "execute_result"
    }
   ],
   "source": [
    "total = 0\n",
    "multiply = True\n",
    "for i, c in enumerate(lines):\n",
    "    if lines[i:i+4] == 'do()':\n",
    "        multiply = True\n",
    "    if lines[i:i+7] == \"don't()\":\n",
    "        multiply = False\n",
    "    if multiply and lines[i:i+4] == 'mul(':\n",
    "        j = i + 4\n",
    "        while j < len(lines) and lines[j] != ')' and j < i + 12:\n",
    "            j += 1\n",
    "        product = lines[i+4:j]\n",
    "        if ',' in product and product.replace(',', '').isdigit():\n",
    "            a, b = product.split(',')\n",
    "            total += int(a) * int(b)\n",
    "total"
   ]
  }
 ],
 "metadata": {
  "kernelspec": {
   "display_name": "Python 3",
   "language": "python",
   "name": "python3"
  },
  "language_info": {
   "codemirror_mode": {
    "name": "ipython",
    "version": 3
   },
   "file_extension": ".py",
   "mimetype": "text/x-python",
   "name": "python",
   "nbconvert_exporter": "python",
   "pygments_lexer": "ipython3",
   "version": "3.12.7"
  }
 },
 "nbformat": 4,
 "nbformat_minor": 2
}
