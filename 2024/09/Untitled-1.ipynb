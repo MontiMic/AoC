{
 "cells": [
  {
   "cell_type": "code",
   "execution_count": 93,
   "metadata": {},
   "outputs": [],
   "source": [
    "with open(\"input.txt\", \"r\") as f:\n",
    "    input = f.read()"
   ]
  },
  {
   "cell_type": "code",
   "execution_count": 94,
   "metadata": {},
   "outputs": [],
   "source": [
    "memory = []\n",
    "ID = 0\n",
    "is_file = True\n",
    "for elem in input:\n",
    "    if is_file:\n",
    "        memory.extend([ID]*int(elem))\n",
    "        ID += 1\n",
    "    else:\n",
    "        memory.extend([None]*int(elem))\n",
    "    is_file = not is_file"
   ]
  },
  {
   "cell_type": "code",
   "execution_count": 3,
   "metadata": {},
   "outputs": [],
   "source": [
    "last = len(memory)-1\n",
    "for i in range(len(memory)):\n",
    "    if memory[i] is None and last > i:\n",
    "        memory[i], memory[last] = memory[last], memory[i]\n",
    "        while memory[last] is None:\n",
    "            last -= 1  "
   ]
  },
  {
   "cell_type": "code",
   "execution_count": 4,
   "metadata": {},
   "outputs": [
    {
     "data": {
      "text/plain": [
       "6291146824486"
      ]
     },
     "execution_count": 4,
     "metadata": {},
     "output_type": "execute_result"
    }
   ],
   "source": [
    "sum(e*i for i, e in enumerate(memory) if e)"
   ]
  },
  {
   "cell_type": "markdown",
   "metadata": {},
   "source": [
    "### Part 2"
   ]
  },
  {
   "cell_type": "code",
   "execution_count": 95,
   "metadata": {},
   "outputs": [],
   "source": [
    "def find_space(idx, memory, file_space,  idx_last):\n",
    "    void_space = 0\n",
    "    first_none = None\n",
    "    while void_space < file_space and idx < idx_last:\n",
    "        if memory[idx] is None:\n",
    "            if first_none is None:\n",
    "                first_none = idx\n",
    "            void_space += 1\n",
    "        else:\n",
    "            void_space = 0\n",
    "        idx += 1\n",
    "    if void_space < file_space:\n",
    "        return None\n",
    "    return (idx - file_space, first_none)"
   ]
  },
  {
   "cell_type": "code",
   "execution_count": 97,
   "metadata": {},
   "outputs": [
    {
     "name": "stdout",
     "output_type": "stream",
     "text": [
      "6307279963620\n"
     ]
    }
   ],
   "source": [
    "from IPython.display import clear_output\n",
    "moved_IDs = set()\n",
    "idx_last = len(memory)-1\n",
    "first_none = 0\n",
    "while idx_last > 0:\n",
    "    if idx_last % 100 == 0:\n",
    "        clear_output(wait=True)\n",
    "        print(f\"{round(((len(memory)-idx_last) * 100) / len(memory), 2)} %\", flush=True)\n",
    "    if memory[idx_last] in moved_IDs:\n",
    "        idx_last -= 1\n",
    "        continue\n",
    "    result = find_space(first_none, memory, memory.count(memory[idx_last]), idx_last)\n",
    "    if result:\n",
    "        new_place, first_none = result\n",
    "        moved_IDs.add(memory[idx_last])\n",
    "        for i in range(memory.count(memory[idx_last])):\n",
    "            memory[new_place+i] = memory[idx_last-i]\n",
    "            memory[idx_last-i] = None\n",
    "    idx_last -= 1    \n",
    "clear_output(wait=True)\n",
    "print(sum(e*i for i, e in enumerate(memory) if e), flush=True)"
   ]
  }
 ],
 "metadata": {
  "kernelspec": {
   "display_name": "Python 3",
   "language": "python",
   "name": "python3"
  },
  "language_info": {
   "codemirror_mode": {
    "name": "ipython",
    "version": 3
   },
   "file_extension": ".py",
   "mimetype": "text/x-python",
   "name": "python",
   "nbconvert_exporter": "python",
   "pygments_lexer": "ipython3",
   "version": "3.12.8"
  }
 },
 "nbformat": 4,
 "nbformat_minor": 2
}
