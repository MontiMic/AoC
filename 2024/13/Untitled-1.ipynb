{
 "cells": [
  {
   "cell_type": "code",
   "execution_count": null,
   "metadata": {},
   "outputs": [],
   "source": [
    "import regex as re\n",
    "with open(\"test.txt\") as f:\n",
    "    input = f.read().strip().split(\"\\n\\n\")\n",
    "    input = [list(map(int, re.findall(r\"\\d+\", x))) for x in input]\n",
    "    "
   ]
  },
  {
   "cell_type": "code",
   "execution_count": null,
   "metadata": {},
   "outputs": [],
   "source": [
    "from functools import cache\n",
    "\n",
    "@cache\n",
    "def path_finder(x, y, ax, ay, bx, by, tx, ty):\n",
    "    if x == tx and y == ty:\n",
    "        return 0\n",
    "    if x > tx or y > ty:\n",
    "        return float(\"inf\")\n",
    "    return min(path_finder(x+ax, y+ay, ax, ay, bx, by, tx, ty) + 3, path_finder(x+bx, y+by, ax, ay, bx, by, tx, ty) + 1)"
   ]
  },
  {
   "cell_type": "code",
   "execution_count": null,
   "metadata": {},
   "outputs": [
    {
     "name": "stdout",
     "output_type": "stream",
     "text": [
      "39290\n"
     ]
    }
   ],
   "source": [
    "total_cost = 0\n",
    "for machine in input:\n",
    "    cost = path_finder(0, 0, *machine)\n",
    "    if not cost == float(\"inf\"):\n",
    "        total_cost += cost\n",
    "print(total_cost)"
   ]
  },
  {
   "cell_type": "markdown",
   "metadata": {},
   "source": [
    "## Part 2"
   ]
  },
  {
   "cell_type": "code",
   "execution_count": 30,
   "metadata": {},
   "outputs": [],
   "source": [
    "import regex as re\n",
    "with open(\"input.txt\") as f:\n",
    "    input = f.read().strip().split(\"\\n\\n\")\n",
    "    input = [list(map(int, re.findall(r\"\\d+\", x))) for x in input]"
   ]
  },
  {
   "cell_type": "code",
   "execution_count": 37,
   "metadata": {},
   "outputs": [],
   "source": [
    "def solution(ax, ay, bx, by, tx, ty):\n",
    "    tx += 10000000000000\n",
    "    ty += 10000000000000\n",
    "    try:\n",
    "        n1 = (tx * by - ty * bx) / (ax * by - ay * bx)\n",
    "        n2 = (tx * ay - ty * ax) / (bx * ay - by * ax)\n",
    "        if n1.is_integer() and n2.is_integer():\n",
    "            return int(n1 * 3 + n2)\n",
    "        else:\n",
    "            return float(\"inf\")\n",
    "    except ZeroDivisionError:\n",
    "        return path_finder(0, 0, ax, ay, bx, by, tx, ty)\n",
    "\n",
    "from functools import cache\n",
    "\n",
    "@cache\n",
    "def path_finder(x, y, ax, ay, bx, by, tx, ty):\n",
    "    if x == tx and y == ty:\n",
    "        return 0\n",
    "    if x > tx or y > ty:\n",
    "        return float(\"inf\")\n",
    "    return min(path_finder(x+ax, y+ay, ax, ay, bx, by, tx, ty) + 3, path_finder(x+bx, y+by, ax, ay, bx, by, tx, ty) + 1)"
   ]
  },
  {
   "cell_type": "code",
   "execution_count": 38,
   "metadata": {},
   "outputs": [
    {
     "name": "stdout",
     "output_type": "stream",
     "text": [
      "73458657399094\n"
     ]
    }
   ],
   "source": [
    "total_cost = 0\n",
    "for machine in input:\n",
    "    cost = solution(*machine)\n",
    "    if not cost == float(\"inf\"):\n",
    "        total_cost += cost\n",
    "print(total_cost)"
   ]
  }
 ],
 "metadata": {
  "kernelspec": {
   "display_name": "Python 3",
   "language": "python",
   "name": "python3"
  },
  "language_info": {
   "codemirror_mode": {
    "name": "ipython",
    "version": 3
   },
   "file_extension": ".py",
   "mimetype": "text/x-python",
   "name": "python",
   "nbconvert_exporter": "python",
   "pygments_lexer": "ipython3",
   "version": "3.10.8"
  }
 },
 "nbformat": 4,
 "nbformat_minor": 2
}
